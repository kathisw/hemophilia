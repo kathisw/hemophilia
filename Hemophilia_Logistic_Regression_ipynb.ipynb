{
  "cells": [
    {
      "cell_type": "markdown",
      "metadata": {
        "id": "view-in-github",
        "colab_type": "text"
      },
      "source": [
        "<a href=\"https://colab.research.google.com/github/kathisw/hemophilia/blob/main/Hemophilia_Logistic_Regression_ipynb.ipynb\" target=\"_parent\"><img src=\"https://colab.research.google.com/assets/colab-badge.svg\" alt=\"Open In Colab\"/></a>"
      ]
    },
    {
      "cell_type": "markdown",
      "source": [
        "# Hemophilia Logistic Regression Classification"
      ],
      "metadata": {
        "id": "QD_m6D9hiOui"
      },
      "id": "QD_m6D9hiOui"
    },
    {
      "cell_type": "code",
      "execution_count": 8,
      "id": "882f43fc",
      "metadata": {
        "id": "882f43fc"
      },
      "outputs": [],
      "source": [
        "\n",
        "import pandas as pd\n",
        "import numpy as np\n",
        "import matplotlib.pyplot as plt\n",
        "from sklearn.linear_model import LogisticRegression\n",
        "from sklearn.model_selection import train_test_split\n",
        "from sklearn.metrics import accuracy_score, classification_report, confusion_matrix, ConfusionMatrixDisplay\n",
        "from imblearn.over_sampling import SMOTE\n",
        "from google.colab import files\n",
        "from io import BytesIO\n"
      ]
    },
    {
      "cell_type": "markdown",
      "source": [
        "### Upload both CHBMP and CHAMP Excel files"
      ],
      "metadata": {
        "id": "_YvbvSzMhOJ8"
      },
      "id": "_YvbvSzMhOJ8"
    },
    {
      "cell_type": "markdown",
      "source": [
        "Data loading from Excel"
      ],
      "metadata": {
        "id": "5PFKvzFHgvgO"
      },
      "id": "5PFKvzFHgvgO"
    },
    {
      "cell_type": "code",
      "execution_count": 2,
      "id": "d7028ad3",
      "metadata": {
        "colab": {
          "base_uri": "https://localhost:8080/",
          "height": 142
        },
        "id": "d7028ad3",
        "outputId": "7eee64e3-cfa7-4075-c2fe-9211f9dd4740"
      },
      "outputs": [
        {
          "output_type": "display_data",
          "data": {
            "text/plain": [
              "<IPython.core.display.HTML object>"
            ],
            "text/html": [
              "\n",
              "     <input type=\"file\" id=\"files-1978c23e-988f-4ba7-b574-bfbcc473c11d\" name=\"files[]\" multiple disabled\n",
              "        style=\"border:none\" />\n",
              "     <output id=\"result-1978c23e-988f-4ba7-b574-bfbcc473c11d\">\n",
              "      Upload widget is only available when the cell has been executed in the\n",
              "      current browser session. Please rerun this cell to enable.\n",
              "      </output>\n",
              "      <script>// Copyright 2017 Google LLC\n",
              "//\n",
              "// Licensed under the Apache License, Version 2.0 (the \"License\");\n",
              "// you may not use this file except in compliance with the License.\n",
              "// You may obtain a copy of the License at\n",
              "//\n",
              "//      http://www.apache.org/licenses/LICENSE-2.0\n",
              "//\n",
              "// Unless required by applicable law or agreed to in writing, software\n",
              "// distributed under the License is distributed on an \"AS IS\" BASIS,\n",
              "// WITHOUT WARRANTIES OR CONDITIONS OF ANY KIND, either express or implied.\n",
              "// See the License for the specific language governing permissions and\n",
              "// limitations under the License.\n",
              "\n",
              "/**\n",
              " * @fileoverview Helpers for google.colab Python module.\n",
              " */\n",
              "(function(scope) {\n",
              "function span(text, styleAttributes = {}) {\n",
              "  const element = document.createElement('span');\n",
              "  element.textContent = text;\n",
              "  for (const key of Object.keys(styleAttributes)) {\n",
              "    element.style[key] = styleAttributes[key];\n",
              "  }\n",
              "  return element;\n",
              "}\n",
              "\n",
              "// Max number of bytes which will be uploaded at a time.\n",
              "const MAX_PAYLOAD_SIZE = 100 * 1024;\n",
              "\n",
              "function _uploadFiles(inputId, outputId) {\n",
              "  const steps = uploadFilesStep(inputId, outputId);\n",
              "  const outputElement = document.getElementById(outputId);\n",
              "  // Cache steps on the outputElement to make it available for the next call\n",
              "  // to uploadFilesContinue from Python.\n",
              "  outputElement.steps = steps;\n",
              "\n",
              "  return _uploadFilesContinue(outputId);\n",
              "}\n",
              "\n",
              "// This is roughly an async generator (not supported in the browser yet),\n",
              "// where there are multiple asynchronous steps and the Python side is going\n",
              "// to poll for completion of each step.\n",
              "// This uses a Promise to block the python side on completion of each step,\n",
              "// then passes the result of the previous step as the input to the next step.\n",
              "function _uploadFilesContinue(outputId) {\n",
              "  const outputElement = document.getElementById(outputId);\n",
              "  const steps = outputElement.steps;\n",
              "\n",
              "  const next = steps.next(outputElement.lastPromiseValue);\n",
              "  return Promise.resolve(next.value.promise).then((value) => {\n",
              "    // Cache the last promise value to make it available to the next\n",
              "    // step of the generator.\n",
              "    outputElement.lastPromiseValue = value;\n",
              "    return next.value.response;\n",
              "  });\n",
              "}\n",
              "\n",
              "/**\n",
              " * Generator function which is called between each async step of the upload\n",
              " * process.\n",
              " * @param {string} inputId Element ID of the input file picker element.\n",
              " * @param {string} outputId Element ID of the output display.\n",
              " * @return {!Iterable<!Object>} Iterable of next steps.\n",
              " */\n",
              "function* uploadFilesStep(inputId, outputId) {\n",
              "  const inputElement = document.getElementById(inputId);\n",
              "  inputElement.disabled = false;\n",
              "\n",
              "  const outputElement = document.getElementById(outputId);\n",
              "  outputElement.innerHTML = '';\n",
              "\n",
              "  const pickedPromise = new Promise((resolve) => {\n",
              "    inputElement.addEventListener('change', (e) => {\n",
              "      resolve(e.target.files);\n",
              "    });\n",
              "  });\n",
              "\n",
              "  const cancel = document.createElement('button');\n",
              "  inputElement.parentElement.appendChild(cancel);\n",
              "  cancel.textContent = 'Cancel upload';\n",
              "  const cancelPromise = new Promise((resolve) => {\n",
              "    cancel.onclick = () => {\n",
              "      resolve(null);\n",
              "    };\n",
              "  });\n",
              "\n",
              "  // Wait for the user to pick the files.\n",
              "  const files = yield {\n",
              "    promise: Promise.race([pickedPromise, cancelPromise]),\n",
              "    response: {\n",
              "      action: 'starting',\n",
              "    }\n",
              "  };\n",
              "\n",
              "  cancel.remove();\n",
              "\n",
              "  // Disable the input element since further picks are not allowed.\n",
              "  inputElement.disabled = true;\n",
              "\n",
              "  if (!files) {\n",
              "    return {\n",
              "      response: {\n",
              "        action: 'complete',\n",
              "      }\n",
              "    };\n",
              "  }\n",
              "\n",
              "  for (const file of files) {\n",
              "    const li = document.createElement('li');\n",
              "    li.append(span(file.name, {fontWeight: 'bold'}));\n",
              "    li.append(span(\n",
              "        `(${file.type || 'n/a'}) - ${file.size} bytes, ` +\n",
              "        `last modified: ${\n",
              "            file.lastModifiedDate ? file.lastModifiedDate.toLocaleDateString() :\n",
              "                                    'n/a'} - `));\n",
              "    const percent = span('0% done');\n",
              "    li.appendChild(percent);\n",
              "\n",
              "    outputElement.appendChild(li);\n",
              "\n",
              "    const fileDataPromise = new Promise((resolve) => {\n",
              "      const reader = new FileReader();\n",
              "      reader.onload = (e) => {\n",
              "        resolve(e.target.result);\n",
              "      };\n",
              "      reader.readAsArrayBuffer(file);\n",
              "    });\n",
              "    // Wait for the data to be ready.\n",
              "    let fileData = yield {\n",
              "      promise: fileDataPromise,\n",
              "      response: {\n",
              "        action: 'continue',\n",
              "      }\n",
              "    };\n",
              "\n",
              "    // Use a chunked sending to avoid message size limits. See b/62115660.\n",
              "    let position = 0;\n",
              "    do {\n",
              "      const length = Math.min(fileData.byteLength - position, MAX_PAYLOAD_SIZE);\n",
              "      const chunk = new Uint8Array(fileData, position, length);\n",
              "      position += length;\n",
              "\n",
              "      const base64 = btoa(String.fromCharCode.apply(null, chunk));\n",
              "      yield {\n",
              "        response: {\n",
              "          action: 'append',\n",
              "          file: file.name,\n",
              "          data: base64,\n",
              "        },\n",
              "      };\n",
              "\n",
              "      let percentDone = fileData.byteLength === 0 ?\n",
              "          100 :\n",
              "          Math.round((position / fileData.byteLength) * 100);\n",
              "      percent.textContent = `${percentDone}% done`;\n",
              "\n",
              "    } while (position < fileData.byteLength);\n",
              "  }\n",
              "\n",
              "  // All done.\n",
              "  yield {\n",
              "    response: {\n",
              "      action: 'complete',\n",
              "    }\n",
              "  };\n",
              "}\n",
              "\n",
              "scope.google = scope.google || {};\n",
              "scope.google.colab = scope.google.colab || {};\n",
              "scope.google.colab._files = {\n",
              "  _uploadFiles,\n",
              "  _uploadFilesContinue,\n",
              "};\n",
              "})(self);\n",
              "</script> "
            ]
          },
          "metadata": {}
        },
        {
          "output_type": "stream",
          "name": "stdout",
          "text": [
            "Saving CHAMP-Variant-List-2022 (3).xlsx to CHAMP-Variant-List-2022 (3).xlsx\n",
            "Saving CHBMP-Variant-List-2022 (3).xlsx to CHBMP-Variant-List-2022 (3).xlsx\n"
          ]
        }
      ],
      "source": [
        "\n",
        "uploaded = files.upload()\n",
        "file_names = list(uploaded.keys())\n",
        "chbmp_df = pd.read_excel(BytesIO(uploaded[file_names[0]]), sheet_name=1)\n",
        "champ_df = pd.read_excel(BytesIO(uploaded[file_names[1]]), sheet_name=1)\n"
      ]
    },
    {
      "cell_type": "markdown",
      "source": [
        "### Filter and prepare label column"
      ],
      "metadata": {
        "id": "B9shrAzyhSbm"
      },
      "id": "B9shrAzyhSbm"
    },
    {
      "cell_type": "markdown",
      "source": [
        "Data cleaning"
      ],
      "metadata": {
        "id": "R9gqs6-ngzfp"
      },
      "id": "R9gqs6-ngzfp"
    },
    {
      "cell_type": "code",
      "execution_count": 9,
      "id": "25789a2a",
      "metadata": {
        "id": "25789a2a"
      },
      "outputs": [],
      "source": [
        "\n",
        "def clean_data(df, dataset_name):\n",
        "    df = df.copy()\n",
        "    df['Dataset'] = dataset_name\n",
        "    df = df[df['History of Inhibitor'].isin(['Yes', 'No'])]\n",
        "    df['Inhibitor_History_Binary'] = df['History of Inhibitor'].map({'Yes': 1, 'No': 0})\n",
        "    return df\n",
        "\n",
        "chbmp_df = clean_data(chbmp_df, 'CHBMP')\n",
        "champ_df = clean_data(champ_df, 'CHAMP')\n",
        "combined_df = pd.concat([chbmp_df, champ_df], ignore_index=True)\n"
      ]
    },
    {
      "cell_type": "markdown",
      "source": [
        "### Select features and label"
      ],
      "metadata": {
        "id": "bqOu4eMBhXd2"
      },
      "id": "bqOu4eMBhXd2"
    },
    {
      "cell_type": "code",
      "source": [
        "X_encoded = X_encoded.astype(int)\n"
      ],
      "metadata": {
        "id": "t3HjqdhYfSxR"
      },
      "id": "t3HjqdhYfSxR",
      "execution_count": 15,
      "outputs": []
    },
    {
      "cell_type": "code",
      "execution_count": 16,
      "id": "3e7565ba",
      "metadata": {
        "id": "3e7565ba"
      },
      "outputs": [],
      "source": [
        "\n",
        "features = ['Variant Type', 'Mechanism', 'Exon', 'Codon', 'Domain']\n",
        "label = 'Inhibitor_History_Binary'\n",
        "X = combined_df[features]\n",
        "y = combined_df[label]\n"
      ]
    },
    {
      "cell_type": "markdown",
      "source": [
        "### Separate numeric and categorical features"
      ],
      "metadata": {
        "id": "5NbvgCHShdtm"
      },
      "id": "5NbvgCHShdtm"
    },
    {
      "cell_type": "markdown",
      "source": [
        "### Fill missing values"
      ],
      "metadata": {
        "id": "QLeojZkMhjPg"
      },
      "id": "QLeojZkMhjPg"
    },
    {
      "cell_type": "code",
      "execution_count": 17,
      "id": "20fb45b8",
      "metadata": {
        "colab": {
          "base_uri": "https://localhost:8080/"
        },
        "id": "20fb45b8",
        "outputId": "057e2aa2-0010-48b7-c5ca-a2feeb0ac6b7"
      },
      "outputs": [
        {
          "output_type": "stream",
          "name": "stderr",
          "text": [
            "<ipython-input-17-bbcae606be97>:13: SettingWithCopyWarning: \n",
            "A value is trying to be set on a copy of a slice from a DataFrame.\n",
            "Try using .loc[row_indexer,col_indexer] = value instead\n",
            "\n",
            "See the caveats in the documentation: https://pandas.pydata.org/pandas-docs/stable/user_guide/indexing.html#returning-a-view-versus-a-copy\n",
            "  X[col] = X[col].fillna(X[col].mode()[0])\n"
          ]
        }
      ],
      "source": [
        "\n",
        "features_numeric = []\n",
        "features_categorical = []\n",
        "\n",
        "for col in X.columns:\n",
        "    if X[col].dtype == 'object':\n",
        "        features_categorical.append(col)\n",
        "    else:\n",
        "        features_numeric.append(col)\n",
        "\n",
        "# Fill missing values\n",
        "X[features_numeric] = X[features_numeric].fillna(X[features_numeric].mean())\n",
        "for col in features_categorical:\n",
        "    X[col] = X[col].fillna(X[col].mode()[0])\n"
      ]
    },
    {
      "cell_type": "markdown",
      "source": [
        "### One-hot encoding of categorical features, splitting and SMOTE"
      ],
      "metadata": {
        "id": "tF3-HOIEhnVP"
      },
      "id": "tF3-HOIEhnVP"
    },
    {
      "cell_type": "code",
      "execution_count": 21,
      "id": "8d20a244",
      "metadata": {
        "id": "8d20a244"
      },
      "outputs": [],
      "source": [
        "\n",
        "# One-hot encoding\n",
        "X_encoded = pd.get_dummies(X, columns=features_categorical)\n",
        "\n",
        "# Convert booleans (True/False) to integers (1/0)\n",
        "X_encoded = X_encoded.astype(int)\n",
        "\n",
        "# Split\n",
        "X_train, X_test, y_train, y_test = train_test_split(\n",
        "    X_encoded, y, test_size=0.2, random_state=42, stratify=y\n",
        ")\n",
        "\n",
        "# SMOTE\n",
        "sm = SMOTE(random_state=42)\n",
        "X_train_resampled, y_train_resampled = sm.fit_resample(X_train, y_train)\n",
        "\n"
      ]
    },
    {
      "cell_type": "code",
      "source": [
        "# Before applying SMOTE, convert boolean columns to integers:\n",
        "for column in X_train.select_dtypes(include=['bool']).columns:\n",
        "    X_train[column] = X_train[column].astype(int)"
      ],
      "metadata": {
        "id": "W4qfyTVue_Hq"
      },
      "id": "W4qfyTVue_Hq",
      "execution_count": 22,
      "outputs": []
    },
    {
      "cell_type": "code",
      "execution_count": 23,
      "id": "bc288c94",
      "metadata": {
        "colab": {
          "base_uri": "https://localhost:8080/"
        },
        "id": "bc288c94",
        "outputId": "203a0448-fcf9-4841-b1e3-7c3b5d53b7f8"
      },
      "outputs": [
        {
          "output_type": "stream",
          "name": "stdout",
          "text": [
            "Before SMOTE: {0: 1714, 1: 401}\n",
            "After SMOTE: {0: 1714, 1: 1714}\n"
          ]
        }
      ],
      "source": [
        "\n",
        "X_train, X_test, y_train, y_test = train_test_split(X_encoded, y, test_size=0.2, random_state=42, stratify=y)\n",
        "\n",
        "sm = SMOTE(random_state=42)\n",
        "X_train_resampled, y_train_resampled = sm.fit_resample(X_train, y_train)\n",
        "\n",
        "print(\"Before SMOTE:\", y_train.value_counts().to_dict())\n",
        "print(\"After SMOTE:\", y_train_resampled.value_counts().to_dict())\n"
      ]
    },
    {
      "cell_type": "markdown",
      "source": [
        "### Train logistic regression model"
      ],
      "metadata": {
        "id": "mzAoL9KKh3aL"
      },
      "id": "mzAoL9KKh3aL"
    },
    {
      "cell_type": "code",
      "execution_count": 24,
      "id": "1106d28f",
      "metadata": {
        "id": "1106d28f"
      },
      "outputs": [],
      "source": [
        "\n",
        "clf = LogisticRegression(max_iter=1000)\n",
        "clf.fit(X_train_resampled, y_train_resampled)\n",
        "y_pred = clf.predict(X_test)\n"
      ]
    },
    {
      "cell_type": "markdown",
      "source": [
        "### Evaluate the model"
      ],
      "metadata": {
        "id": "7Eu-jadjh6y8"
      },
      "id": "7Eu-jadjh6y8"
    },
    {
      "cell_type": "code",
      "execution_count": 25,
      "id": "96a513eb",
      "metadata": {
        "colab": {
          "base_uri": "https://localhost:8080/"
        },
        "id": "96a513eb",
        "outputId": "44b05532-78d8-4ade-bf1d-eb124f3465f1"
      },
      "outputs": [
        {
          "output_type": "stream",
          "name": "stdout",
          "text": [
            "Accuracy: 0.7277882797731569\n",
            "\n",
            "Classification Report:\n",
            "              precision    recall  f1-score   support\n",
            "\n",
            "           0       0.87      0.78      0.82       429\n",
            "           1       0.35      0.52      0.42       100\n",
            "\n",
            "    accuracy                           0.73       529\n",
            "   macro avg       0.61      0.65      0.62       529\n",
            "weighted avg       0.78      0.73      0.75       529\n",
            "\n"
          ]
        }
      ],
      "source": [
        "\n",
        "print(\"Accuracy:\", accuracy_score(y_test, y_pred))\n",
        "print(\"\\nClassification Report:\")\n",
        "print(classification_report(y_test, y_pred))\n"
      ]
    },
    {
      "cell_type": "markdown",
      "source": [
        "The model achieved an accuracy of **~72.8%**, meaning that out of all predictions, nearly 73% were correct. However, in class-imbalanced scenarios like this (more “No Inhibitor” than “Yes Inhibitor”), accuracy alone can be misleading — so we also look at other metrics.\n"
      ],
      "metadata": {
        "id": "jLqFc7LPlghk"
      },
      "id": "jLqFc7LPlghk"
    },
    {
      "cell_type": "markdown",
      "source": [
        "- **Class 0 (No Inhibitor)**:\n",
        "  - Precision: 0.87 → When the model predicts “No Inhibitor,” it's correct 87% of the time.\n",
        "  - Recall: 0.78 → It correctly identifies 78% of actual “No Inhibitor” cases.\n",
        "  \n",
        "- **Class 1 (Yes Inhibitor)**:\n",
        "  - Precision: 0.35 → When it predicts “Yes Inhibitor,” it’s correct 35% of the time.\n",
        "  - Recall: 0.52 → It detects 52% of all true inhibitor cases.\n"
      ],
      "metadata": {
        "id": "a2_HTpeqlUqw"
      },
      "id": "a2_HTpeqlUqw"
    },
    {
      "cell_type": "markdown",
      "source": [
        "### Confusion Matrix"
      ],
      "metadata": {
        "id": "l0zgXVhZh-0M"
      },
      "id": "l0zgXVhZh-0M"
    },
    {
      "cell_type": "code",
      "execution_count": 26,
      "id": "2b0c6458",
      "metadata": {
        "colab": {
          "base_uri": "https://localhost:8080/",
          "height": 472
        },
        "id": "2b0c6458",
        "outputId": "225f26a8-dfcc-49c3-b4c4-712aaed502d6"
      },
      "outputs": [
        {
          "output_type": "display_data",
          "data": {
            "text/plain": [
              "<Figure size 640x480 with 2 Axes>"
            ],
            "image/png": "[encoded data removed]"
          },
          "metadata": {}
        }
      ],
      "source": [
        "\n",
        "cm = confusion_matrix(y_test, y_pred)\n",
        "disp = ConfusionMatrixDisplay(confusion_matrix=cm, display_labels=['No Inhibitor', 'Yes Inhibitor'])\n",
        "disp.plot(cmap='plasma')\n",
        "plt.grid(False)\n",
        "plt.title(\"Confusion Matrix\")\n",
        "plt.show()\n"
      ]
    },
    {
      "cell_type": "markdown",
      "source": [
        "#ROC and PR curves"
      ],
      "metadata": {
        "id": "NLAFmYViiFeF"
      },
      "id": "NLAFmYViiFeF"
    },
    {
      "cell_type": "code",
      "source": [
        "from sklearn.metrics import roc_curve, auc, precision_recall_curve, average_precision_score\n",
        "import matplotlib.pyplot as plt\n",
        "\n",
        "# Predict probabilities for ROC/PR curves\n",
        "y_pred_prob = clf.predict_proba(X_test)[:, 1]\n",
        "\n",
        "# ROC Curve\n",
        "fpr, tpr, _ = roc_curve(y_test, y_pred_prob)\n",
        "roc_auc = auc(fpr, tpr)\n",
        "\n",
        "plt.figure()\n",
        "plt.plot(fpr, tpr, color='darkorange', lw=2, label=f'ROC curve (AUC = {roc_auc:.2f})')\n",
        "plt.plot([0, 1], [0, 1], color='navy', lw=1, linestyle='--')\n",
        "plt.xlabel('False Positive Rate')\n",
        "plt.ylabel('True Positive Rate')\n",
        "plt.title('Receiver Operating Characteristic (ROC) Curve')\n",
        "plt.legend(loc=\"lower right\")\n",
        "plt.grid(True)\n",
        "plt.show()\n",
        "\n",
        "# Precision-Recall Curve\n",
        "precision, recall, _ = precision_recall_curve(y_test, y_pred_prob)\n",
        "avg_precision = average_precision_score(y_test, y_pred_prob)\n",
        "\n",
        "plt.figure()\n",
        "plt.plot(recall, precision, color='purple', lw=2, label=f'PR curve (AP = {avg_precision:.2f})')\n",
        "plt.xlabel('Recall')\n",
        "plt.ylabel('Precision')\n",
        "plt.title('Precision-Recall (PR) Curve')\n",
        "plt.legend(loc=\"lower left\")\n",
        "plt.grid(True)\n",
        "plt.show()\n"
      ],
      "metadata": {
        "colab": {
          "base_uri": "https://localhost:8080/",
          "height": 927
        },
        "id": "5zC3Pv26f5Tr",
        "outputId": "b53c1e87-ff35-4dfb-b789-1e85bc9e8889"
      },
      "id": "5zC3Pv26f5Tr",
      "execution_count": 27,
      "outputs": [
        {
          "output_type": "display_data",
          "data": {
            "text/plain": [
              "<Figure size 640x480 with 1 Axes>"
            ],
            "image/png": "[encoded data removed]"
          },
          "metadata": {}
        },
        {
          "output_type": "display_data",
          "data": {
            "text/plain": [
              "<Figure size 640x480 with 1 Axes>"
            ],
            "image/png": "[encoded data removed]"
          },
          "metadata": {}
        }
      ]
    },
    {
      "cell_type": "markdown",
      "source": [
        "### ✅ ROC Curve (AUC = 0.72)\n",
        "The ROC (Receiver Operating Characteristic) curve shows how well the model distinguishes between classes.  \n",
        "- **AUC = 0.72** means there’s a 72% chance the model ranks a random positive (inhibitor) case higher than a negative one.  \n",
        "- This indicates **fair** discrimination ability — better than random, but there is room to improve.\n"
      ],
      "metadata": {
        "id": "fnO7DfSWlnPo"
      },
      "id": "fnO7DfSWlnPo"
    },
    {
      "cell_type": "markdown",
      "source": [
        "### ✅ Precision-Recall (PR) Curve\n",
        "The PR curve is especially useful for **imbalanced datasets** like this one.\n",
        "- It shows how precision and recall trade off.\n",
        "- In our case, the model finds **over half** of the inhibitor cases (52% recall), though precision is lower.\n",
        "- The curve confirms that **the model is learning useful signals about the rare inhibitor class**.\n"
      ],
      "metadata": {
        "id": "ua4LGbqPlrSC"
      },
      "id": "ua4LGbqPlrSC"
    }
  ],
  "metadata": {
    "colab": {
      "provenance": [],
      "include_colab_link": true
    },
    "language_info": {
      "name": "python"
    },
    "kernelspec": {
      "name": "python3",
      "display_name": "Python 3"
    }
  },
  "nbformat": 4,
  "nbformat_minor": 5
}